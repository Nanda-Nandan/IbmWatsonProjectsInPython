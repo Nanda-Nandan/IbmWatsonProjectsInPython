{
    "nbformat_minor": 1, 
    "cells": [
        {
            "source": "def greetings(name):\n    print(\"hello\",name)", 
            "cell_type": "code", 
            "metadata": {}, 
            "outputs": [], 
            "execution_count": 1
        }, 
        {
            "source": "greetings('nanda')", 
            "cell_type": "code", 
            "metadata": {}, 
            "outputs": [
                {
                    "output_type": "stream", 
                    "name": "stdout", 
                    "text": "hello nanda\n"
                }
            ], 
            "execution_count": 2
        }, 
        {
            "source": "greetings", 
            "cell_type": "code", 
            "metadata": {}, 
            "outputs": [
                {
                    "output_type": "execute_result", 
                    "data": {
                        "text/plain": "<function __main__.greetings>"
                    }, 
                    "execution_count": 3, 
                    "metadata": {}
                }
            ], 
            "execution_count": 3
        }, 
        {
            "source": "#we can store this function in avariable as we store other data types\ng=greetings\ng('nanda')", 
            "cell_type": "code", 
            "metadata": {}, 
            "outputs": [
                {
                    "output_type": "stream", 
                    "name": "stdout", 
                    "text": "hello nanda\n"
                }
            ], 
            "execution_count": 4
        }, 
        {
            "source": "items=[10,20]\nitems.append(greetings)\nitems#second item of list is function\n#we can call it like below\nitems[2]('nanda')", 
            "cell_type": "code", 
            "metadata": {}, 
            "outputs": [
                {
                    "output_type": "stream", 
                    "name": "stdout", 
                    "text": "hello nanda\n"
                }
            ], 
            "execution_count": 5
        }, 
        {
            "source": "#function as parameter to other function\n#since we can store function as other object we can paa function as parameter to other function\nimport time\ndef after(seconds,arg,func):\n    time.sleep(seconds)\n    func(arg)\n    \nafter(5,'nanda',greetings)\n", 
            "cell_type": "code", 
            "metadata": {}, 
            "outputs": [
                {
                    "output_type": "stream", 
                    "name": "stdout", 
                    "text": "hello nanda\n"
                }
            ], 
            "execution_count": 6
        }, 
        {
            "source": "#we can pass parameter to greeting function as above or using lambda also\nimport time\ndef after(seconds,func):\n    time.sleep(seconds)\n    func()\nafter(5,lambda:greetings('nanda'))", 
            "cell_type": "code", 
            "metadata": {}, 
            "outputs": [
                {
                    "output_type": "stream", 
                    "name": "stdout", 
                    "text": "hello nanda\n"
                }
            ], 
            "execution_count": 7
        }, 
        {
            "source": "names=['dave','else','aan']\nnames.sort(key=lambda x:x.upper())\nnames", 
            "cell_type": "code", 
            "metadata": {}, 
            "outputs": [
                {
                    "output_type": "execute_result", 
                    "data": {
                        "text/plain": "['aan', 'dave', 'else']"
                    }, 
                    "execution_count": 8, 
                    "metadata": {}
                }
            ], 
            "execution_count": 8
        }, 
        {
            "source": "#retunr function object from parent function\n\ndef add(x,y):\n    def do_add():\n        print(\"adding {} and {} result {}\".format(x,y,x+y))\n        return x+y\n    return do_add\na=add(3,4)\na()", 
            "cell_type": "code", 
            "metadata": {}, 
            "outputs": [
                {
                    "output_type": "stream", 
                    "name": "stdout", 
                    "text": "adding 3 and 4 result 7\n"
                }, 
                {
                    "output_type": "execute_result", 
                    "data": {
                        "text/plain": "7"
                    }, 
                    "execution_count": 9, 
                    "metadata": {}
                }
            ], 
            "execution_count": 9
        }, 
        {
            "source": "#here we have seen the first function returning a object of second function\n#but second function is not taking x and y as argument,so basically there is no variable x,y in global environment and in local environment after the\n#first function returns the second function object\n#after storing the first function value when we are calling as a() to second function how it is getting the value of x and y\n\n#this is achieved by a concept called closure\n#in closure function carries data also\n#so when we called the first function the second funtion object as well as data associated to execute it is returned as closure", 
            "cell_type": "code", 
            "metadata": {}, 
            "outputs": [], 
            "execution_count": 10
        }, 
        {
            "source": "#lets apply closure for Holding object\nclass Holding(object):\n    def __init__(self, name, date, shares, price):\n        self.name = name\n        self.date = date\n        self.shares = shares\n        self.price = price\n\n    @property\n    def price(self):\n        return self._price\n\n    @price.setter\n    def price(self, newprice):\n        if not isinstance(newprice, float):\n            raise TypeError('Expected float')\n        if newprice < 0:\n            raise ValueError('Must >= 0')\n        self._price = newprice\n\n    @property\n    def shares(self):\n        return self._shares\n\n    @shares.setter\n    def shares(self, newshares):\n        if not isinstance(newshares, int):\n            raise TypeError('Expected int')\n        self._shares = newshares\n\n    def __repr__(self):\n        return 'Holding({!r},{!r},{!r},{!r})'.format(self.name, self.date, self.shares, self.price)\n\n    def __str__(self):\n        return '{} shares of {} at ${:0.2f}'.format(self.shares, self.name, self.price)\n\n    @property\n    def cost(self):\n        return self.shares * self.price\n\n    def sell(self, nshares):\n        self.shares -= nshares\n", 
            "cell_type": "code", 
            "metadata": {}, 
            "outputs": [], 
            "execution_count": 11
        }, 
        {
            "source": "#here we have defined a meta tag for property and checking the type of property\n#we the problem here is we have to write the tag for each property and write the same amount of getter and settercode for each property to achieve that\n#as in above we have written for price and shares property\na=Holding('nanda',12,2,2.2)\na.price", 
            "cell_type": "code", 
            "metadata": {}, 
            "outputs": [
                {
                    "output_type": "execute_result", 
                    "data": {
                        "text/plain": "2.2"
                    }, 
                    "execution_count": 12, 
                    "metadata": {}
                }
            ], 
            "execution_count": 12
        }, 
        {
            "source": "#the above problem can be solved using closure\n#first write a function to use as closure\ndef typed_property(name,expected_type):\n    private_name=\"_\"+name\n    @property\n    def prop(self):\n        return getattr(self,private_name)\n    @prop.setter\n    def prop(self,value):\n        if not isinstance(value,expected_type):\n            raise TypeError('Expected {}'.format(expected_type))\n        setattr(self,private_name,value)\n    return prop", 
            "cell_type": "code", 
            "metadata": {}, 
            "outputs": [], 
            "execution_count": 19
        }, 
        {
            "source": "#here we are creating a function prop , input to this function and function object both forms closure\n#we are returning the prop method and using it whenever setting and getting\n#but problem here is we have to pass type as argument always and call the function typed_property,why not make the type as a afunction\nclass Holding(object):\n    shares=typed_property('shares',int)\n    price=typed_property('price',float)\n    def __init__(self,name,date,shares,price):\n        self.name=name\n        self.date=date\n        self.shares=shares\n        self.price=price\nh=Holding(1,2,3,2.4)        \nh.price      \n    ", 
            "cell_type": "code", 
            "metadata": {}, 
            "outputs": [
                {
                    "output_type": "execute_result", 
                    "data": {
                        "text/plain": "2.4"
                    }, 
                    "execution_count": 20, 
                    "metadata": {}
                }
            ], 
            "execution_count": 20
        }, 
        {
            "source": "#the above problem can be solved using below code\n#we have used lambda expression to store the closure to variable and use that variable as function\nInteger=lambda x:typed_property(x,int)\nFloat=lambda y:typed_property(y,float)\nclass Holding(object):\n    shares=Integer('shares')\n    price=Float('price')\n    def __init__(self,name,date,shares,price):\n        self.name=name\n        self.date=date\n        self.shares=shares\n        self.price=price\nh=Holding(1,2,3,2.4)        \nh.price      \n    ", 
            "cell_type": "code", 
            "metadata": {}, 
            "outputs": [
                {
                    "output_type": "execute_result", 
                    "data": {
                        "text/plain": "2.4"
                    }, 
                    "execution_count": 21, 
                    "metadata": {}
                }
            ], 
            "execution_count": 21
        }, 
        {
            "source": "", 
            "cell_type": "code", 
            "metadata": {}, 
            "outputs": [], 
            "execution_count": null
        }
    ], 
    "metadata": {
        "kernelspec": {
            "display_name": "Python 3.5", 
            "name": "python3", 
            "language": "python"
        }, 
        "language_info": {
            "mimetype": "text/x-python", 
            "nbconvert_exporter": "python", 
            "version": "3.5.4", 
            "name": "python", 
            "file_extension": ".py", 
            "pygments_lexer": "ipython3", 
            "codemirror_mode": {
                "version": 3, 
                "name": "ipython"
            }
        }
    }, 
    "nbformat": 4
}